{
 "cells": [
  {
   "cell_type": "code",
   "execution_count": null,
   "id": "e63cdc1c",
   "metadata": {
    "ExecuteTime": {
     "start_time": "2021-09-13T16:40:35.103Z"
    }
   },
   "outputs": [],
   "source": [
    "from sklearn.datasets import load_boston\n",
    "import numpy as np\n",
    "import pandas as pd\n",
    "from sklearn.preprocessing import StandardScaler\n",
    "from sklearn.model_selection import train_test_split\n",
    "from sklearn.model_selection import KFold\n",
    "from sklearn.linear_model import LinearRegression\n",
    "\n",
    "from sklearn.metrics import mean_squared_error, r2_score\n",
    "import matplotlib.pyplot as plt\n",
    "import seaborn as sns"
   ]
  },
  {
   "cell_type": "code",
   "execution_count": null,
   "id": "0e6e3e3a",
   "metadata": {
    "ExecuteTime": {
     "start_time": "2021-09-13T16:40:35.105Z"
    }
   },
   "outputs": [],
   "source": [
    "boston = load_boston()\n",
    "X = pd.DataFrame(boston.data, columns=boston.feature_names)\n",
    "y = boston.target"
   ]
  },
  {
   "cell_type": "markdown",
   "id": "a8f7c2f1",
   "metadata": {},
   "source": [
    "# Data Check"
   ]
  },
  {
   "cell_type": "code",
   "execution_count": null,
   "id": "ff02a484",
   "metadata": {
    "ExecuteTime": {
     "start_time": "2021-09-13T16:40:35.107Z"
    }
   },
   "outputs": [],
   "source": [
    "X.head()"
   ]
  },
  {
   "cell_type": "code",
   "execution_count": null,
   "id": "f6eb4f1f",
   "metadata": {
    "ExecuteTime": {
     "start_time": "2021-09-13T16:40:35.109Z"
    }
   },
   "outputs": [],
   "source": [
    "def draw_histogram(x, title=None, xlabel=None):\n",
    "    plt.title(title)\n",
    "    plt.hist(x, color='blue', rwidth=0.9)\n",
    "    plt.xlabel(xlabel)\n",
    "    plt.show()"
   ]
  },
  {
   "cell_type": "code",
   "execution_count": null,
   "id": "36a288e8",
   "metadata": {
    "ExecuteTime": {
     "start_time": "2021-09-13T16:40:35.110Z"
    }
   },
   "outputs": [],
   "source": [
    "def draw_scatters(X, y, ncols=3):\n",
    "    cols = X.columns\n",
    "    fig, axs = plt.subplots(nrows=-(-len(cols)//3), ncols=ncols, figsize=(len(cols), len(cols)*1.5))\n",
    "    fig.suptitle('relationship between y and X')\n",
    "    \n",
    "    for ax, col in zip(axs.ravel(), cols):\n",
    "        ax.set_xlabel(col)\n",
    "        ax.set_ylabel('y')\n",
    "        ax.scatter(x=X[col], y=y, marker=\"o\", color=\"brown\")\n",
    "    \n",
    "    fig.show()"
   ]
  },
  {
   "cell_type": "code",
   "execution_count": null,
   "id": "5ca303d0",
   "metadata": {
    "ExecuteTime": {
     "start_time": "2021-09-13T16:40:35.112Z"
    }
   },
   "outputs": [],
   "source": [
    "draw_histogram(y, title='y distribution', xlabel=\"MEDV\")"
   ]
  },
  {
   "cell_type": "code",
   "execution_count": null,
   "id": "e5393ebd",
   "metadata": {
    "ExecuteTime": {
     "start_time": "2021-09-13T16:40:35.113Z"
    }
   },
   "outputs": [],
   "source": [
    "draw_scatters(X, y)"
   ]
  },
  {
   "cell_type": "code",
   "execution_count": null,
   "id": "2dccf922",
   "metadata": {
    "ExecuteTime": {
     "start_time": "2021-09-13T16:40:35.114Z"
    }
   },
   "outputs": [],
   "source": [
    "sns.pairplot(X)\n",
    "plt.show()"
   ]
  },
  {
   "cell_type": "markdown",
   "id": "98668957",
   "metadata": {},
   "source": [
    "# Interpretating by Coef"
   ]
  },
  {
   "cell_type": "code",
   "execution_count": null,
   "id": "f3bcb0c8",
   "metadata": {
    "ExecuteTime": {
     "start_time": "2021-09-13T16:40:35.116Z"
    }
   },
   "outputs": [],
   "source": [
    "TEST_SIZE = 0.2\n",
    "RANDOM_SEED = 2020\n",
    "N_FOLD = 5"
   ]
  },
  {
   "cell_type": "markdown",
   "id": "70f30d95",
   "metadata": {},
   "source": [
    "## without KFold"
   ]
  },
  {
   "cell_type": "code",
   "execution_count": null,
   "id": "6b732f51",
   "metadata": {
    "ExecuteTime": {
     "start_time": "2021-09-13T16:40:35.117Z"
    }
   },
   "outputs": [],
   "source": [
    "X_train, X_test, y_train, y_test = train_test_split(X, y, test_size=TEST_SIZE, random_state=RANDOM_SEED)\n",
    "\n",
    "sc = StandardScaler()\n",
    "X_train_std = sc.fit_transform(X_train)\n",
    "X_test_std = sc.transform(X_test)\n",
    "\n",
    "lr = LinearRegression()\n",
    "lr.fit(X_train_std, y_train)\n",
    "\n",
    "y_pred = lr.predict(X_test_std)"
   ]
  },
  {
   "cell_type": "code",
   "execution_count": null,
   "id": "ba528c60",
   "metadata": {
    "ExecuteTime": {
     "start_time": "2021-09-13T16:40:35.119Z"
    }
   },
   "outputs": [],
   "source": [
    "print(f\"RMSE: {mean_squared_error(y_test, y_pred, squared=False)}\")\n",
    "print(f\"R^2: {r2_score(y_test, y_pred)}\")"
   ]
  },
  {
   "cell_type": "code",
   "execution_count": null,
   "id": "3de3ea20",
   "metadata": {
    "ExecuteTime": {
     "start_time": "2021-09-13T16:40:35.120Z"
    }
   },
   "outputs": [],
   "source": [
    "df_coef = pd.DataFrame({\"columns\": X.columns, \"coef\": lr.coef_.tolist()}).sort_values(\"coef\", ascending=False)\n",
    "plt.barh(width=list(df_coef[\"coef\"]), y=df_coef[\"columns\"])\n",
    "plt.title(f\"coef\")\n",
    "plt.show()"
   ]
  },
  {
   "cell_type": "markdown",
   "id": "88af9250",
   "metadata": {},
   "source": [
    "## with KFold"
   ]
  },
  {
   "cell_type": "code",
   "execution_count": null,
   "id": "d5618857",
   "metadata": {
    "ExecuteTime": {
     "start_time": "2021-09-13T16:40:35.121Z"
    }
   },
   "outputs": [],
   "source": [
    "folds = KFold(n_splits=N_FOLD, shuffle=True, random_state=RANDOM_SEED)\n",
    "fold_iter = folds.split(X, y=y)\n",
    "height = 0.15\n",
    "labels = X.columns\n",
    "left = np.arange(len(labels), dtype=float) - height\n",
    "\n",
    "for n_fold, (trn_idx, val_idx) in enumerate(fold_iter):\n",
    "    X_train, X_valid = X.iloc[trn_idx], X.iloc[val_idx]\n",
    "    y_train, y_valid = y[trn_idx], y[val_idx]\n",
    "    \n",
    "    sc = StandardScaler()\n",
    "    X_train_std = sc.fit_transform(X_train)\n",
    "    X_valid_std = sc.transform(X_valid)\n",
    "\n",
    "    lr = LinearRegression()\n",
    "    lr.fit(X_train_std, y_train)\n",
    "\n",
    "    y_pred = lr.predict(X_valid_std)\n",
    "    \n",
    "    bar = plt.barh(left, lr.coef_.tolist(), height=height, align='center', label=f\"fold-{n_fold}\")\n",
    "    plt.bar_label(bar, label_type='center', fmt='')\n",
    "    plt.legend()\n",
    "    plt.title(\"coef\")\n",
    "    plt.yticks(left-(height*N_FOLD)/2, labels)\n",
    "\n",
    "    left += height\n",
    "\n",
    "plt.show()"
   ]
  },
  {
   "cell_type": "code",
   "execution_count": null,
   "id": "6ee91c91",
   "metadata": {},
   "outputs": [],
   "source": []
  }
 ],
 "metadata": {
  "kernelspec": {
   "display_name": "Python 3 (ipykernel)",
   "language": "python",
   "name": "python3"
  },
  "language_info": {
   "codemirror_mode": {
    "name": "ipython",
    "version": 3
   },
   "file_extension": ".py",
   "mimetype": "text/x-python",
   "name": "python",
   "nbconvert_exporter": "python",
   "pygments_lexer": "ipython3",
   "version": "3.7.9"
  },
  "toc": {
   "base_numbering": 1,
   "nav_menu": {},
   "number_sections": true,
   "sideBar": true,
   "skip_h1_title": false,
   "title_cell": "Table of Contents",
   "title_sidebar": "Contents",
   "toc_cell": false,
   "toc_position": {},
   "toc_section_display": true,
   "toc_window_display": true
  },
  "varInspector": {
   "cols": {
    "lenName": 16,
    "lenType": 16,
    "lenVar": 40
   },
   "kernels_config": {
    "python": {
     "delete_cmd_postfix": "",
     "delete_cmd_prefix": "del ",
     "library": "var_list.py",
     "varRefreshCmd": "print(var_dic_list())"
    },
    "r": {
     "delete_cmd_postfix": ") ",
     "delete_cmd_prefix": "rm(",
     "library": "var_list.r",
     "varRefreshCmd": "cat(var_dic_list()) "
    }
   },
   "types_to_exclude": [
    "module",
    "function",
    "builtin_function_or_method",
    "instance",
    "_Feature"
   ],
   "window_display": false
  }
 },
 "nbformat": 4,
 "nbformat_minor": 5
}
